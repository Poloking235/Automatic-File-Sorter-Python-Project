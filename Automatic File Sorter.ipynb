{
 "cells": [
  {
   "cell_type": "code",
   "execution_count": 1,
   "id": "05b76bd0-e2ab-4c6c-bbe0-0ae687cf20ea",
   "metadata": {},
   "outputs": [],
   "source": [
    "import os, shutil\n"
   ]
  },
  {
   "cell_type": "code",
   "execution_count": 2,
   "id": "e6b39b40-3875-4d64-9531-d4fddbfbbe86",
   "metadata": {},
   "outputs": [],
   "source": [
    "path = r'C:\\Users\\Cedric\\Desktop\\AutomaticFileSorter\\\\'\n",
    "\n",
    "folder_names = ['CSV Files', 'Text Files', 'Image Files']\n",
    "\n",
    "#C:\\Users\\Cedric\\Desktop\\AutomaticFileSorter\\Image Files'\n",
    "\n",
    "for folder in folder_names:\n",
    "        if not os.path.exists(path + folder):\n",
    "            os.makedirs(path + folder)\n",
    "    \n",
    "file_names = os.listdir(path)\n",
    "    \n",
    "    \n",
    "for file in file_names:\n",
    "        if \".csv\" in file and not os.path.exists(path + \"CSV Files\\\\\" + file):\n",
    "            shutil.move(path + file , path + \"CSV Files\\\\\" + file)\n",
    "        elif \".png\" in file and not os.path.exists(path + \"Image Files\\\\\" + file):\n",
    "            shutil.move(path + file , path + \"Image Files\\\\\" + file)\n",
    "        elif \".txt\" in file and not os.path.exists(path + \"Text Files\\\\\" + file):\n",
    "            shutil.move(path + file , path + \"Text Files\\\\\" + file)"
   ]
  },
  {
   "cell_type": "code",
   "execution_count": null,
   "id": "3a645989-da77-4e1e-af8d-58474ac626e6",
   "metadata": {},
   "outputs": [],
   "source": []
  },
  {
   "cell_type": "code",
   "execution_count": null,
   "id": "5813a48b-0413-4e4d-961b-1cd136ac73c2",
   "metadata": {},
   "outputs": [],
   "source": []
  }
 ],
 "metadata": {
  "kernelspec": {
   "display_name": "Python 3 (ipykernel)",
   "language": "python",
   "name": "python3"
  },
  "language_info": {
   "codemirror_mode": {
    "name": "ipython",
    "version": 3
   },
   "file_extension": ".py",
   "mimetype": "text/x-python",
   "name": "python",
   "nbconvert_exporter": "python",
   "pygments_lexer": "ipython3",
   "version": "3.10.2"
  }
 },
 "nbformat": 4,
 "nbformat_minor": 5
}
